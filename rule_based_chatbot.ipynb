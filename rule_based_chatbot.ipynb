{
 "cells": [
  {
   "cell_type": "code",
   "execution_count": 1,
   "id": "e4f29aa1",
   "metadata": {},
   "outputs": [],
   "source": [
    "import nltk\n",
    "import re\n",
    "from nltk.chat.util import Chat, reflections"
   ]
  },
  {
   "cell_type": "code",
   "execution_count": 2,
   "id": "b445ddda",
   "metadata": {},
   "outputs": [
    {
     "name": "stderr",
     "output_type": "stream",
     "text": [
      "[nltk_data] Downloading package punkt to C:\\Users\\Exist\n",
      "[nltk_data]     Tech\\AppData\\Roaming\\nltk_data...\n",
      "[nltk_data]   Package punkt is already up-to-date!\n",
      "[nltk_data] Downloading package averaged_perceptron_tagger to\n",
      "[nltk_data]     C:\\Users\\Exist Tech\\AppData\\Roaming\\nltk_data...\n",
      "[nltk_data]   Package averaged_perceptron_tagger is already up-to-\n",
      "[nltk_data]       date!\n"
     ]
    },
    {
     "data": {
      "text/plain": [
       "True"
      ]
     },
     "execution_count": 2,
     "metadata": {},
     "output_type": "execute_result"
    }
   ],
   "source": [
    "nltk.download('punkt')\n",
    "nltk.download('averaged_perceptron_tagger')"
   ]
  },
  {
   "cell_type": "code",
   "execution_count": 3,
   "id": "68a2dfdb",
   "metadata": {},
   "outputs": [],
   "source": [
    "# Define patterns and responses\n",
    "pairs = [\n",
    "    [r\"my name is (.*)\", [\"Hello %1, how can I assist you today?\",]],\n",
    "    [r\"hi|hey|hello\", [\"Hello, how can I help you?\", \"Hey there! What can I do for you?\", \"Hi! How can I assist you today?\"]],\n",
    "    [r\"what is your name?\", [\"I am a chatbot created to assist you. You can call me Chatbot.\",]],\n",
    "    [r\"how are you?\", [\"I'm a bot, so I don't have feelings, but I'm here to help you!\",]],\n",
    "    [r\"can you help me with (.*)\", [\"Sure, I can help you with %1. Please provide more details.\",]],\n",
    "    [r\"sorry (.*)\", [\"It's okay. How can I assist you?\",]],\n",
    "    [r\"thank you|thanks\", [\"You're welcome!\", \"No problem!\", \"Happy to help!\"]],\n",
    "    [r\"quit\", [\"Bye! Have a great day!\", \"Goodbye!\"]],\n",
    "    [r\"(.*)\", [\"I'm sorry, I don't understand that. Can you rephrase?\", \"Could you please elaborate on that?\"]]\n",
    "]"
   ]
  },
  {
   "cell_type": "code",
   "execution_count": 4,
   "id": "47243104",
   "metadata": {},
   "outputs": [],
   "source": [
    "class RBChatbot:\n",
    "    def __init__(self, pairs): # Corrected the method name to __init__\n",
    "        self.chat = Chat(pairs, reflections)\n",
    "    def respond(self, user_input):\n",
    "        return self.chat.respond(user_input)\n",
    "chatbot = RBChatbot(pairs)"
   ]
  },
  {
   "cell_type": "code",
   "execution_count": 5,
   "id": "64ca1566",
   "metadata": {},
   "outputs": [
    {
     "name": "stdout",
     "output_type": "stream",
     "text": [
      "Hi, I'm your chatbot. Type 'quit' to exit.\n",
      "You: hello\n",
      "Chatbot: Hi! How can I assist you today?\n",
      "You: how are you\n",
      "Chatbot: I'm a bot, so I don't have feelings, but I'm here to help you!\n",
      "You: explain about your algorithm\n",
      "Chatbot: Could you please elaborate on that?\n",
      "You: what type of algorithm you use?\n",
      "Chatbot: I'm sorry, I don't understand that. Can you rephrase?\n",
      "You: ok nothing\n",
      "Chatbot: I'm sorry, I don't understand that. Can you rephrase?\n",
      "You: ok bye\n",
      "Chatbot: Could you please elaborate on that?\n",
      "You: bye\n",
      "Chatbot: I'm sorry, I don't understand that. Can you rephrase?\n",
      "You: exit\n",
      "Chatbot: I'm sorry, I don't understand that. Can you rephrase?\n",
      "You: leave\n",
      "Chatbot: Could you please elaborate on that?\n",
      "You: thanks\n",
      "Chatbot: No problem!\n",
      "You: thanks\n",
      "Chatbot: You're welcome!\n",
      "You: thanks\n",
      "Chatbot: You're welcome!\n",
      "You: quit\n",
      "Chatbot: Bye! Have a great day!\n"
     ]
    }
   ],
   "source": [
    "# Function to chat with the bot\n",
    "def chat_with_bot():\n",
    "    print(\"Hi, I'm your chatbot. Type 'quit' to exit.\")\n",
    "    while True:\n",
    "        user_input = input(\"You: \")\n",
    "        if user_input.lower() == 'quit':\n",
    "            print(\"Chatbot: Bye! Have a great day!\")\n",
    "            break\n",
    "        response = chatbot.respond(user_input)\n",
    "        print(f\"Chatbot: {response}\")\n",
    "# Start chatting with the bot\n",
    "chat_with_bot()"
   ]
  },
  {
   "cell_type": "code",
   "execution_count": null,
   "id": "d9d8ee5f",
   "metadata": {},
   "outputs": [],
   "source": []
  }
 ],
 "metadata": {
  "kernelspec": {
   "display_name": "Python 3 (ipykernel)",
   "language": "python",
   "name": "python3"
  },
  "language_info": {
   "codemirror_mode": {
    "name": "ipython",
    "version": 3
   },
   "file_extension": ".py",
   "mimetype": "text/x-python",
   "name": "python",
   "nbconvert_exporter": "python",
   "pygments_lexer": "ipython3",
   "version": "3.9.13"
  }
 },
 "nbformat": 4,
 "nbformat_minor": 5
}
