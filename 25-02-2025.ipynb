{
 "cells": [
  {
   "cell_type": "code",
   "execution_count": 1,
   "id": "52450932",
   "metadata": {},
   "outputs": [
    {
     "name": "stdout",
     "output_type": "stream",
     "text": [
      "Collecting gTTs\n",
      "  Obtaining dependency information for gTTs from https://files.pythonhosted.org/packages/e3/6c/8b8b1fdcaee7e268536f1bb00183a5894627726b54a9ddc6fc9909888447/gTTS-2.5.4-py3-none-any.whl.metadata\n",
      "  Downloading gTTS-2.5.4-py3-none-any.whl.metadata (4.1 kB)\n",
      "Requirement already satisfied: requests<3,>=2.27 in c:\\users\\abhis\\anaconda3\\lib\\site-packages (from gTTs) (2.31.0)\n",
      "Requirement already satisfied: click<8.2,>=7.1 in c:\\users\\abhis\\anaconda3\\lib\\site-packages (from gTTs) (8.0.4)\n",
      "Requirement already satisfied: colorama in c:\\users\\abhis\\anaconda3\\lib\\site-packages (from click<8.2,>=7.1->gTTs) (0.4.6)\n",
      "Requirement already satisfied: charset-normalizer<4,>=2 in c:\\users\\abhis\\anaconda3\\lib\\site-packages (from requests<3,>=2.27->gTTs) (2.0.4)\n",
      "Requirement already satisfied: idna<4,>=2.5 in c:\\users\\abhis\\anaconda3\\lib\\site-packages (from requests<3,>=2.27->gTTs) (3.4)\n",
      "Requirement already satisfied: urllib3<3,>=1.21.1 in c:\\users\\abhis\\anaconda3\\lib\\site-packages (from requests<3,>=2.27->gTTs) (1.26.16)\n",
      "Requirement already satisfied: certifi>=2017.4.17 in c:\\users\\abhis\\anaconda3\\lib\\site-packages (from requests<3,>=2.27->gTTs) (2023.7.22)\n",
      "Downloading gTTS-2.5.4-py3-none-any.whl (29 kB)\n",
      "Installing collected packages: gTTs\n",
      "Successfully installed gTTs-2.5.4\n"
     ]
    }
   ],
   "source": [
    "!pip install gTTs"
   ]
  },
  {
   "cell_type": "code",
   "execution_count": 3,
   "id": "708a18b1",
   "metadata": {},
   "outputs": [],
   "source": [
    "from gtts import gTTS"
   ]
  },
  {
   "cell_type": "code",
   "execution_count": 4,
   "id": "79228d76",
   "metadata": {},
   "outputs": [],
   "source": [
    "convert = gTTS(text = \"I like this NLP. How about dude!\", lang = 'en', slow = False)\n",
    "convert.save(\"audio.mp3\")"
   ]
  },
  {
   "cell_type": "code",
   "execution_count": 5,
   "id": "c7f936a4",
   "metadata": {},
   "outputs": [
    {
     "name": "stdout",
     "output_type": "stream",
     "text": [
      "Collecting pyttsx3\n",
      "  Obtaining dependency information for pyttsx3 from https://files.pythonhosted.org/packages/94/df/e1584757c736c4fba09a3fb4f22fe625cc3367b06c6ece221e4b8c1e3023/pyttsx3-2.98-py3-none-any.whl.metadata\n",
      "  Downloading pyttsx3-2.98-py3-none-any.whl.metadata (3.8 kB)\n",
      "Collecting comtypes (from pyttsx3)\n",
      "  Obtaining dependency information for comtypes from https://files.pythonhosted.org/packages/4c/44/72009bb0a0d8286f6408c9cb70552350e21e9c280bfa1ef30784b30dfc0f/comtypes-1.4.10-py3-none-any.whl.metadata\n",
      "  Downloading comtypes-1.4.10-py3-none-any.whl.metadata (7.2 kB)\n",
      "Collecting pypiwin32 (from pyttsx3)\n",
      "  Obtaining dependency information for pypiwin32 from https://files.pythonhosted.org/packages/d0/1b/2f292bbd742e369a100c91faa0483172cd91a1a422a6692055ac920946c5/pypiwin32-223-py3-none-any.whl.metadata\n",
      "  Downloading pypiwin32-223-py3-none-any.whl.metadata (236 bytes)\n",
      "Requirement already satisfied: pywin32 in c:\\users\\abhis\\anaconda3\\lib\\site-packages (from pyttsx3) (305.1)\n",
      "Downloading pyttsx3-2.98-py3-none-any.whl (34 kB)\n",
      "Downloading comtypes-1.4.10-py3-none-any.whl (241 kB)\n",
      "   ---------------------------------------- 0.0/241.5 kB ? eta -:--:--\n",
      "   --------------- ------------------------ 92.2/241.5 kB 1.7 MB/s eta 0:00:01\n",
      "   --------------------------- ------------ 163.8/241.5 kB 2.0 MB/s eta 0:00:01\n",
      "   ---------------------------------------- 241.5/241.5 kB 2.1 MB/s eta 0:00:00\n",
      "Downloading pypiwin32-223-py3-none-any.whl (1.7 kB)\n",
      "Installing collected packages: pypiwin32, comtypes, pyttsx3\n",
      "Successfully installed comtypes-1.4.10 pypiwin32-223 pyttsx3-2.98\n"
     ]
    }
   ],
   "source": [
    "! pip install pyttsx3"
   ]
  },
  {
   "cell_type": "code",
   "execution_count": 13,
   "id": "a3dd7daf",
   "metadata": {},
   "outputs": [],
   "source": [
    "import pyttsx3, time\n",
    "engine = pyttsx3.init()\n",
    "engine.say('hi, I am text speech')\n",
    "engine.runAndWait()"
   ]
  },
  {
   "cell_type": "code",
   "execution_count": 14,
   "id": "d391fb42",
   "metadata": {},
   "outputs": [],
   "source": [
    "text = ['THis is introduction to nlp','it is likly to be useful, to people ',\\\n",
    "       'machine is a new electricity','there would be less hype around ai and more action going forward ',\\\n",
    "       'python is the best tool!','R is good language','i like this book',\\\n",
    "       'i want this book like this']"
   ]
  },
  {
   "cell_type": "code",
   "execution_count": 16,
   "id": "8891bd5d",
   "metadata": {},
   "outputs": [],
   "source": [
    "engin = pyttsx3.init()\n",
    "engine.say(text)\n",
    "engine.runAndWait()"
   ]
  },
  {
   "cell_type": "code",
   "execution_count": 17,
   "id": "401934ce",
   "metadata": {},
   "outputs": [
    {
     "name": "stdout",
     "output_type": "stream",
     "text": [
      "Current rate: 200\n",
      "Current volume: 1.0\n"
     ]
    }
   ],
   "source": [
    "import pyttsx3\n",
    "\n",
    "# Initialize the engine\n",
    "engine = pyttsx3.init()\n",
    "\n",
    "rate = engine.getProperty('rate')\n",
    "print(\"Current rate:\", rate)\n",
    "volume = engine.getProperty('volume')   # First get the current volume\n",
    "print(\"Current volume:\", volume)\n",
    "engine.setProperty('volume', 1.0)       # Set volume, requires both parameters\n",
    "\n",
    "# Get and set voice\n",
    "voices = engine.getProperty('voices')    # Changed from 'voice' to 'voices'\n",
    "engine.setProperty('voice', voices[1].id)\n",
    "\n",
    "# Say the text\n",
    "engine.say('My current speaking rate is ' + str(rate))\n",
    "engine.say('My current speaking volume is ' + str(volume))\n",
    "engine.runAndWait()\n",
    "engine.stop()"
   ]
  },
  {
   "cell_type": "code",
   "execution_count": 18,
   "id": "d5466067",
   "metadata": {},
   "outputs": [
    {
     "name": "stdout",
     "output_type": "stream",
     "text": [
      "Collecting translate\n",
      "  Obtaining dependency information for translate from https://files.pythonhosted.org/packages/e1/54/df0d3e62636f291d716caa44c5c9590af8e6f225c59d7874051da6428c06/translate-3.6.1-py2.py3-none-any.whl.metadata\n",
      "  Downloading translate-3.6.1-py2.py3-none-any.whl.metadata (7.7 kB)\n",
      "Requirement already satisfied: click in c:\\users\\abhis\\anaconda3\\lib\\site-packages (from translate) (8.0.4)\n",
      "Requirement already satisfied: lxml in c:\\users\\abhis\\anaconda3\\lib\\site-packages (from translate) (4.9.2)\n",
      "Requirement already satisfied: requests in c:\\users\\abhis\\anaconda3\\lib\\site-packages (from translate) (2.31.0)\n",
      "Collecting libretranslatepy==2.1.1 (from translate)\n",
      "  Obtaining dependency information for libretranslatepy==2.1.1 from https://files.pythonhosted.org/packages/24/54/044ecbf4eeba3f3feee70d496f34f397dc20714cdb80dfa8bc01e7409f88/libretranslatepy-2.1.1-py3-none-any.whl.metadata\n",
      "  Downloading libretranslatepy-2.1.1-py3-none-any.whl.metadata (233 bytes)\n",
      "Requirement already satisfied: colorama in c:\\users\\abhis\\anaconda3\\lib\\site-packages (from click->translate) (0.4.6)\n",
      "Requirement already satisfied: charset-normalizer<4,>=2 in c:\\users\\abhis\\anaconda3\\lib\\site-packages (from requests->translate) (2.0.4)\n",
      "Requirement already satisfied: idna<4,>=2.5 in c:\\users\\abhis\\anaconda3\\lib\\site-packages (from requests->translate) (3.4)\n",
      "Requirement already satisfied: urllib3<3,>=1.21.1 in c:\\users\\abhis\\anaconda3\\lib\\site-packages (from requests->translate) (1.26.16)\n",
      "Requirement already satisfied: certifi>=2017.4.17 in c:\\users\\abhis\\anaconda3\\lib\\site-packages (from requests->translate) (2023.7.22)\n",
      "Downloading translate-3.6.1-py2.py3-none-any.whl (12 kB)\n",
      "Downloading libretranslatepy-2.1.1-py3-none-any.whl (3.2 kB)\n",
      "Installing collected packages: libretranslatepy, translate\n",
      "Successfully installed libretranslatepy-2.1.1 translate-3.6.1\n"
     ]
    }
   ],
   "source": [
    "! pip install translate\n"
   ]
  },
  {
   "cell_type": "code",
   "execution_count": 20,
   "id": "79f434b9",
   "metadata": {},
   "outputs": [
    {
     "data": {
      "text/plain": [
       "'యౌవనస్థుడు'"
      ]
     },
     "execution_count": 20,
     "metadata": {},
     "output_type": "execute_result"
    }
   ],
   "source": [
    "from translate import Translator \n",
    "translator  = Translator(to_lang = 'te')\n",
    "translator  =translator.translate('young man')\n",
    "translator"
   ]
  },
  {
   "cell_type": "code",
   "execution_count": null,
   "id": "4a419ea0",
   "metadata": {},
   "outputs": [],
   "source": []
  }
 ],
 "metadata": {
  "kernelspec": {
   "display_name": "Python 3 (ipykernel)",
   "language": "python",
   "name": "python3"
  },
  "language_info": {
   "codemirror_mode": {
    "name": "ipython",
    "version": 3
   },
   "file_extension": ".py",
   "mimetype": "text/x-python",
   "name": "python",
   "nbconvert_exporter": "python",
   "pygments_lexer": "ipython3",
   "version": "3.11.4"
  }
 },
 "nbformat": 4,
 "nbformat_minor": 5
}
