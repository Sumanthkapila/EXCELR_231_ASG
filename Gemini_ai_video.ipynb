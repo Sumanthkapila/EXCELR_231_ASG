{
  "nbformat": 4,
  "nbformat_minor": 0,
  "metadata": {
    "colab": {
      "provenance": []
    },
    "kernelspec": {
      "name": "python3",
      "display_name": "Python 3"
    },
    "language_info": {
      "name": "python"
    }
  },
  "cells": [
    {
      "cell_type": "code",
      "execution_count": 2,
      "metadata": {
        "colab": {
          "base_uri": "https://localhost:8080/"
        },
        "id": "iS-JWyi0Uv-0",
        "outputId": "70ceafc9-e710-4eac-887f-16b99529ab54"
      },
      "outputs": [
        {
          "output_type": "stream",
          "name": "stdout",
          "text": [
            "Collecting youtube-transcript-api\n",
            "  Downloading youtube_transcript_api-1.0.1-py3-none-any.whl.metadata (22 kB)\n",
            "Collecting pytube\n",
            "  Downloading pytube-15.0.0-py3-none-any.whl.metadata (5.0 kB)\n",
            "Requirement already satisfied: defusedxml<0.8.0,>=0.7.1 in /usr/local/lib/python3.11/dist-packages (from youtube-transcript-api) (0.7.1)\n",
            "Requirement already satisfied: requests in /usr/local/lib/python3.11/dist-packages (from youtube-transcript-api) (2.32.3)\n",
            "Requirement already satisfied: charset-normalizer<4,>=2 in /usr/local/lib/python3.11/dist-packages (from requests->youtube-transcript-api) (3.4.1)\n",
            "Requirement already satisfied: idna<4,>=2.5 in /usr/local/lib/python3.11/dist-packages (from requests->youtube-transcript-api) (3.10)\n",
            "Requirement already satisfied: urllib3<3,>=1.21.1 in /usr/local/lib/python3.11/dist-packages (from requests->youtube-transcript-api) (2.3.0)\n",
            "Requirement already satisfied: certifi>=2017.4.17 in /usr/local/lib/python3.11/dist-packages (from requests->youtube-transcript-api) (2025.1.31)\n",
            "Downloading youtube_transcript_api-1.0.1-py3-none-any.whl (1.9 MB)\n",
            "\u001b[2K   \u001b[90m━━━━━━━━━━━━━━━━━━━━━━━━━━━━━━━━━━━━━━━━\u001b[0m \u001b[32m1.9/1.9 MB\u001b[0m \u001b[31m31.2 MB/s\u001b[0m eta \u001b[36m0:00:00\u001b[0m\n",
            "\u001b[?25hDownloading pytube-15.0.0-py3-none-any.whl (57 kB)\n",
            "\u001b[2K   \u001b[90m━━━━━━━━━━━━━━━━━━━━━━━━━━━━━━━━━━━━━━━━\u001b[0m \u001b[32m57.6/57.6 kB\u001b[0m \u001b[31m3.7 MB/s\u001b[0m eta \u001b[36m0:00:00\u001b[0m\n",
            "\u001b[?25hInstalling collected packages: pytube, youtube-transcript-api\n",
            "Successfully installed pytube-15.0.0 youtube-transcript-api-1.0.1\n"
          ]
        }
      ],
      "source": [
        "pip install youtube-transcript-api pytube"
      ]
    },
    {
      "cell_type": "code",
      "source": [
        "from youtube_transcript_api import YouTubeTranscriptApi\n",
        "\n",
        "def get_youtube_transcript(video_url):\n",
        "\n",
        "    \"\"\"Fetches the transcript of a YouTube video.\"\"\"\n",
        "\n",
        "    video_id = video_url.split(\"v=\")[1].split(\"&\")[0]  # Extract video ID\n",
        "\n",
        "    transcript = YouTubeTranscriptApi.get_transcript(video_id)\n",
        "\n",
        "    full_text = \" \".join([t[\"text\"] for t in transcript])\n",
        "\n",
        "    return full_text\n",
        "\n",
        "# Example Usage\n",
        "\n",
        "video_url = \"https://www.youtube.com/watch?v=unYDoA8QGH0&list=PLWEpztHwA4ZT2QlHC74oIz4MsawcvE-QX\"\n",
        "\n",
        "video_transcript = get_youtube_transcript(video_url)\n",
        "\n",
        "print(\"Transcript:\\n\", video_transcript[:500])  # Show first 500 characters"
      ],
      "metadata": {
        "colab": {
          "base_uri": "https://localhost:8080/"
        },
        "id": "xR4CRjbvVXE6",
        "outputId": "8f788d04-ad09-4085-95ea-99e02ed06a1b"
      },
      "execution_count": 3,
      "outputs": [
        {
          "output_type": "stream",
          "name": "stdout",
          "text": [
            "Transcript:\n",
            " hi guys today I'm going to introduce you what is machine learning uh these are my presentation content what is machine learning what are the different applications of machine learning different types of machine learning and how to build a machine learning system or model then various kinds of algorithms and later on in this series we are going to take a Hands-On you know case studies or doing programming for various kinds of up algorithms so what is machine learning so machine learning is nothin\n"
          ]
        }
      ]
    },
    {
      "cell_type": "code",
      "source": [
        "# Configure Gemini API\n",
        "\n",
        "import google.generativeai as genai\n",
        "\n",
        "from google.colab import userdata\n",
        "\n",
        "GOOGLE_API_KEY=userdata.get('GOOGLE_API_KEY')\n",
        "\n",
        "genai.configure(api_key=GOOGLE_API_KEY)"
      ],
      "metadata": {
        "id": "97Dxlv0KWOS2"
      },
      "execution_count": 4,
      "outputs": []
    },
    {
      "cell_type": "code",
      "source": [
        "def summarize_video(text):\n",
        "\n",
        "    \"\"\"Summarizes the YouTube video transcript using Gemini AI.\"\"\"\n",
        "\n",
        "    model = genai.GenerativeModel(\"gemini-1.5-flash\")\n",
        "\n",
        "    prompt = f\"Summarize the following YouTube video transcript:\\n\\n{text}\"\n",
        "\n",
        "    response = model.generate_content(prompt)\n",
        "\n",
        "    return response.text\n",
        "\n",
        "summary = summarize_video(video_transcript)\n",
        "\n",
        "print(\"Summary:\\n\", summary)"
      ],
      "metadata": {
        "colab": {
          "base_uri": "https://localhost:8080/",
          "height": 158
        },
        "id": "MP9wlf2kWdqW",
        "outputId": "cf233b93-3b83-410a-e65b-31794054c61b"
      },
      "execution_count": 5,
      "outputs": [
        {
          "output_type": "stream",
          "name": "stdout",
          "text": [
            "Summary:\n",
            " This YouTube video provides an introduction to machine learning.  The presenter covers the definition of machine learning as learning from data, emphasizing its role as a subfield of artificial intelligence.  Various applications are explored, including speech recognition, web search systems, recommendation systems, computer vision, information retrieval, and fraud detection.\n",
            "\n",
            "The video then categorizes machine learning into three types: supervised (with labeled data, further divided into classification and regression), unsupervised (with unlabeled data, focusing on clustering and dimensionality reduction), and reinforcement learning (where an agent learns through trial and error and rewards/penalties).\n",
            "\n",
            "The presenter details the process of building a machine learning model, starting with data preprocessing (cleaning, scaling, encoding, feature selection), algorithm selection, model building, and evaluation.  Key terminology (features, attributes, samples, target variables) is explained using the Iris dataset as an example.  The video concludes by promising future sessions with hands-on case studies and algorithm implementations.\n",
            "\n"
          ]
        }
      ]
    },
    {
      "cell_type": "code",
      "source": [
        "def extract_video_insights(text):\n",
        "\n",
        "    \"\"\"Extracts key insights from the YouTube video transcript.\"\"\"\n",
        "\n",
        "    model = genai.GenerativeModel(\"gemini-1.5-flash\")\n",
        "\n",
        "    prompt = f\"Extract the key takeaways and insights from this YouTube video:\\n\\n{text}\"\n",
        "\n",
        "    response = model.generate_content(prompt)\n",
        "\n",
        "    return response.text\n",
        "\n",
        "insights = extract_video_insights(video_transcript)\n",
        "\n",
        "print(\"Key Insights:\\n\", insights)"
      ],
      "metadata": {
        "colab": {
          "base_uri": "https://localhost:8080/",
          "height": 835
        },
        "id": "1t7pTr6OW2qG",
        "outputId": "335664b8-30d5-4ebc-8ba8-5208dc83de89"
      },
      "execution_count": 6,
      "outputs": [
        {
          "output_type": "stream",
          "name": "stdout",
          "text": [
            "Key Insights:\n",
            " This YouTube video provides an introduction to machine learning. Here are the key takeaways and insights:\n",
            "\n",
            "**What is Machine Learning?**\n",
            "\n",
            "* **Definition:** Machine learning is essentially learning from data.  It's a subfield of AI that allows computers to learn from experience (data) without explicit programming.  The process involves using algorithms to build models that predict future outcomes.\n",
            "* **Key Components:** Training data (past data used for learning), algorithms (used to process data), and models (the output, used for prediction).\n",
            "* **Arthur Samuel's Definition:** A field of study that gives computers the ability to learn without being explicitly programmed.\n",
            "\n",
            "**Applications of Machine Learning:**\n",
            "\n",
            "The video highlights numerous applications across various domains, including:\n",
            "\n",
            "* **Speech Recognition:**  Powering virtual assistants like Siri and Google Assistant.\n",
            "* **Web Search:** Improving search engine results (e.g., using algorithms like Naive Bayes).\n",
            "* **Recommendation Systems:** Suggesting products or content based on user preferences.\n",
            "* **Computer Vision:** Understanding and interpreting images and videos (object recognition, etc.).\n",
            "* **Information Retrieval:**  Efficiently accessing and processing vast amounts of data (as in Google Search).\n",
            "* **Fraud Detection:** Identifying malicious activities online.\n",
            "\n",
            "**Types of Machine Learning:**\n",
            "\n",
            "The video categorizes machine learning into three main types:\n",
            "\n",
            "* **Supervised Learning:** The training data is labeled (outcome is known), and the model learns to predict the outcome based on the input features.  This includes:\n",
            "    * **Classification:** Predicting categorical outcomes (e.g., spam/not spam, type of flower).\n",
            "    * **Regression:** Predicting continuous outcomes (e.g., salary, temperature).\n",
            "* **Unsupervised Learning:** The training data is unlabeled (outcome is unknown), and the model learns to identify patterns, structures, or clusters in the data.  Examples include clustering analysis and dimensionality reduction.\n",
            "* **Reinforcement Learning:** An agent learns to interact with an environment by performing actions and receiving rewards or penalties. This type of learning is common in game playing and robotics.\n",
            "\n",
            "**Building a Machine Learning Model: The Workflow**\n",
            "\n",
            "The video outlines a typical machine learning workflow:\n",
            "\n",
            "1. **Data Preprocessing:** Cleaning and preparing the data (handling missing values, feature scaling, encoding categorical variables, feature selection/dimensionality reduction).\n",
            "2. **Algorithm Selection:** Choosing an appropriate algorithm based on the problem type (classification, regression, etc.) and data characteristics.\n",
            "3. **Model Building:** Training the model using the preprocessed data and selected algorithm.\n",
            "4. **Model Evaluation:** Assessing the model's performance using appropriate metrics (accuracy, etc.).  The speaker emphasizes building multiple models and comparing their performance for better results.\n",
            "\n",
            "**Important Terminology:**\n",
            "\n",
            "The video clarifies common terms used in machine learning, including features, attributes, samples, instances, observations, target variable, and response variable.  The Iris dataset is mentioned as a good example for hands-on practice.\n",
            "\n",
            "\n",
            "In essence, the video serves as a foundational overview of machine learning, covering its core concepts, applications, types, and the typical steps involved in building a machine learning model.  It sets the stage for more in-depth discussions of specific algorithms and practical implementations in future videos.\n",
            "\n"
          ]
        }
      ]
    },
    {
      "cell_type": "code",
      "source": [
        "def ask_question_about_video(text, question):\n",
        "\n",
        "    \"\"\"Answers user questions about the YouTube video content.\"\"\"\n",
        "\n",
        "    model = genai.GenerativeModel(\"gemini-1.5-flash\")\n",
        "\n",
        "    prompt = f\"The following is a YouTube video transcript:\\n\\n{text}\\n\\nAnswer this question based on the content:\\n{question}\"\n",
        "\n",
        "    response = model.generate_content(prompt)\n",
        "\n",
        "    return response.text\n",
        "\n",
        "question = \"What is the main topic discussed in the video?\"\n",
        "\n",
        "answer = ask_question_about_video(video_transcript, question)\n",
        "\n",
        "print(\"Answer:\\n\", answer)"
      ],
      "metadata": {
        "colab": {
          "base_uri": "https://localhost:8080/",
          "height": 89
        },
        "id": "UfrI7B-2X8Ur",
        "outputId": "f4ea1fb0-445a-4956-8636-aa18008580a8"
      },
      "execution_count": 7,
      "outputs": [
        {
          "output_type": "stream",
          "name": "stdout",
          "text": [
            "Answer:\n",
            " The main topic of the YouTube video is an introduction to machine learning.  The video covers what machine learning is, its various applications, different types of machine learning (supervised, unsupervised, and reinforcement learning),  and the process of building a machine learning model.  It also touches upon specific algorithms and the need for data preprocessing and model evaluation.  The presenter promises hands-on case studies and programming examples in future videos.\n",
            "\n"
          ]
        }
      ]
    },
    {
      "cell_type": "code",
      "source": [
        "def analyze_sentiment(text):\n",
        "\n",
        "    \"\"\"Performs sentiment analysis on the YouTube video transcript.\"\"\"\n",
        "\n",
        "    model = genai.GenerativeModel(\"gemini-1.5-flash\")\n",
        "\n",
        "    prompt = f\"Analyze the sentiment of this YouTube video transcript. Is it positive, negative, or neutral?\\n\\n{text}\"\n",
        "\n",
        "    response = model.generate_content(prompt)\n",
        "\n",
        "    return response.text\n",
        "\n",
        "sentiment = analyze_sentiment(video_transcript)\n",
        "\n",
        "print(\"Sentiment Analysis:\\n\", sentiment)"
      ],
      "metadata": {
        "colab": {
          "base_uri": "https://localhost:8080/",
          "height": 89
        },
        "id": "m_PkMRMRYQ5Y",
        "outputId": "7c309dae-53b9-40eb-e90b-307d99ad94b4"
      },
      "execution_count": 8,
      "outputs": [
        {
          "output_type": "stream",
          "name": "stdout",
          "text": [
            "Sentiment Analysis:\n",
            " The sentiment of the YouTube video transcript is overwhelmingly **positive**.  The speaker is enthusiastic and encouraging throughout.  While the content is technical (explaining machine learning concepts), the tone is upbeat and optimistic, promising hands-on learning and practical application in future videos.  Phrases like \"very smarter applications,\" \"growing a lot,\" and \"very good\" reflect this positive sentiment.  There's no negativity or criticism expressed, and the overall goal is to educate and inspire the viewer.\n",
            "\n"
          ]
        }
      ]
    },
    {
      "cell_type": "code",
      "source": [],
      "metadata": {
        "id": "uPV5icqmY2OQ"
      },
      "execution_count": null,
      "outputs": []
    }
  ]
}