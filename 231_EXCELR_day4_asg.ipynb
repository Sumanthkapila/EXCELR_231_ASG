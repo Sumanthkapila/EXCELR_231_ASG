{
 "cells": [
  {
   "cell_type": "markdown",
   "id": "88346f37",
   "metadata": {},
   "source": [
    "# Write a Python program to calculate the sum of all even numbers between 1 and a given positive integer n"
   ]
  },
  {
   "cell_type": "code",
   "execution_count": 2,
   "id": "d7fda9b4",
   "metadata": {},
   "outputs": [
    {
     "name": "stdout",
     "output_type": "stream",
     "text": [
      "Enter a positive integer: 19\n",
      "The sum of all even numbers between 1 and 19 is 90\n"
     ]
    }
   ],
   "source": [
    "n = int(input(\"Enter a positive integer: \"))\n",
    "sum_even = sum(range(2, n + 1, 2))\n",
    "print(f\"The sum of all even numbers between 1 and {n} is {sum_even}\")"
   ]
  },
  {
   "cell_type": "code",
   "execution_count": null,
   "id": "9d8ca093",
   "metadata": {},
   "outputs": [],
   "source": []
  }
 ],
 "metadata": {
  "kernelspec": {
   "display_name": "Python 3 (ipykernel)",
   "language": "python",
   "name": "python3"
  },
  "language_info": {
   "codemirror_mode": {
    "name": "ipython",
    "version": 3
   },
   "file_extension": ".py",
   "mimetype": "text/x-python",
   "name": "python",
   "nbconvert_exporter": "python",
   "pygments_lexer": "ipython3",
   "version": "3.9.13"
  }
 },
 "nbformat": 4,
 "nbformat_minor": 5
}
